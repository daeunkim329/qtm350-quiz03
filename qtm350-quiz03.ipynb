{
 "cells": [
  {
   "cell_type": "code",
   "execution_count": null,
   "metadata": {},
   "outputs": [],
   "source": [
    "# Print your Emory ID here\n",
    "print(\"Emory ID: 2483332\")"
   ]
  },
  {
   "cell_type": "code",
   "execution_count": 1,
   "metadata": {},
   "outputs": [
    {
     "data": {
      "text/html": [
       "<div>\n",
       "<style scoped>\n",
       "    .dataframe tbody tr th:only-of-type {\n",
       "        vertical-align: middle;\n",
       "    }\n",
       "\n",
       "    .dataframe tbody tr th {\n",
       "        vertical-align: top;\n",
       "    }\n",
       "\n",
       "    .dataframe thead th {\n",
       "        text-align: right;\n",
       "    }\n",
       "</style>\n",
       "<table border=\"1\" class=\"dataframe\">\n",
       "  <thead>\n",
       "    <tr style=\"text-align: right;\">\n",
       "      <th></th>\n",
       "      <th>rank</th>\n",
       "      <th>password</th>\n",
       "      <th>category</th>\n",
       "      <th>value</th>\n",
       "      <th>time_unit</th>\n",
       "      <th>offline_crack_sec</th>\n",
       "      <th>rank_alt</th>\n",
       "      <th>strength</th>\n",
       "      <th>font_size</th>\n",
       "    </tr>\n",
       "  </thead>\n",
       "  <tbody>\n",
       "    <tr>\n",
       "      <th>0</th>\n",
       "      <td>1.0</td>\n",
       "      <td>password</td>\n",
       "      <td>password-related</td>\n",
       "      <td>6.91</td>\n",
       "      <td>years</td>\n",
       "      <td>2.170000e+00</td>\n",
       "      <td>1.0</td>\n",
       "      <td>8.0</td>\n",
       "      <td>11.0</td>\n",
       "    </tr>\n",
       "    <tr>\n",
       "      <th>1</th>\n",
       "      <td>2.0</td>\n",
       "      <td>123456</td>\n",
       "      <td>simple-alphanumeric</td>\n",
       "      <td>18.52</td>\n",
       "      <td>minutes</td>\n",
       "      <td>1.110000e-05</td>\n",
       "      <td>2.0</td>\n",
       "      <td>4.0</td>\n",
       "      <td>8.0</td>\n",
       "    </tr>\n",
       "    <tr>\n",
       "      <th>2</th>\n",
       "      <td>3.0</td>\n",
       "      <td>12345678</td>\n",
       "      <td>simple-alphanumeric</td>\n",
       "      <td>1.29</td>\n",
       "      <td>days</td>\n",
       "      <td>1.110000e-03</td>\n",
       "      <td>3.0</td>\n",
       "      <td>4.0</td>\n",
       "      <td>8.0</td>\n",
       "    </tr>\n",
       "    <tr>\n",
       "      <th>3</th>\n",
       "      <td>4.0</td>\n",
       "      <td>1234</td>\n",
       "      <td>simple-alphanumeric</td>\n",
       "      <td>11.11</td>\n",
       "      <td>seconds</td>\n",
       "      <td>1.110000e-07</td>\n",
       "      <td>4.0</td>\n",
       "      <td>4.0</td>\n",
       "      <td>8.0</td>\n",
       "    </tr>\n",
       "    <tr>\n",
       "      <th>4</th>\n",
       "      <td>5.0</td>\n",
       "      <td>qwerty</td>\n",
       "      <td>simple-alphanumeric</td>\n",
       "      <td>3.72</td>\n",
       "      <td>days</td>\n",
       "      <td>3.210000e-03</td>\n",
       "      <td>5.0</td>\n",
       "      <td>8.0</td>\n",
       "      <td>11.0</td>\n",
       "    </tr>\n",
       "  </tbody>\n",
       "</table>\n",
       "</div>"
      ],
      "text/plain": [
       "   rank  password             category  value time_unit  offline_crack_sec  \\\n",
       "0   1.0  password     password-related   6.91     years       2.170000e+00   \n",
       "1   2.0    123456  simple-alphanumeric  18.52   minutes       1.110000e-05   \n",
       "2   3.0  12345678  simple-alphanumeric   1.29      days       1.110000e-03   \n",
       "3   4.0      1234  simple-alphanumeric  11.11   seconds       1.110000e-07   \n",
       "4   5.0    qwerty  simple-alphanumeric   3.72      days       3.210000e-03   \n",
       "\n",
       "   rank_alt  strength  font_size  \n",
       "0       1.0       8.0       11.0  \n",
       "1       2.0       4.0        8.0  \n",
       "2       3.0       4.0        8.0  \n",
       "3       4.0       4.0        8.0  \n",
       "4       5.0       8.0       11.0  "
      ]
     },
     "execution_count": 1,
     "metadata": {},
     "output_type": "execute_result"
    }
   ],
   "source": [
    "# Import the necessary libraries and load the data\n",
    "import pandas as pd\n",
    "\n",
    "passwords_df = pd.read_csv('passwords.csv')\n",
    "passwords_df.head()"
   ]
  },
  {
   "cell_type": "markdown",
   "metadata": {},
   "source": [
    "1. An online password attack is when someone tries to hack your account by simply trying a very large number of username/password combinations to access your account. For each `password` in our dataset, the `value` column shows the amount of time it is estimated to take an “online password attack” to hack your account. The column `time_unit` shows the units of that time value (e.g., hours, days, years, etc.). It would be much nicer if our values were of the same units so we can more easily compare the “online password guessing time” for each password. So your first task is to convert all of the values to units of hours (assume the conversion units provided below, e.g., 1 day is 24 hours, 1 week is 168 hours, etc)."
   ]
  },
  {
   "cell_type": "code",
   "execution_count": 2,
   "metadata": {},
   "outputs": [
    {
     "data": {
      "text/html": [
       "<div>\n",
       "<style scoped>\n",
       "    .dataframe tbody tr th:only-of-type {\n",
       "        vertical-align: middle;\n",
       "    }\n",
       "\n",
       "    .dataframe tbody tr th {\n",
       "        vertical-align: top;\n",
       "    }\n",
       "\n",
       "    .dataframe thead th {\n",
       "        text-align: right;\n",
       "    }\n",
       "</style>\n",
       "<table border=\"1\" class=\"dataframe\">\n",
       "  <thead>\n",
       "    <tr style=\"text-align: right;\">\n",
       "      <th></th>\n",
       "      <th>password</th>\n",
       "      <th>value</th>\n",
       "      <th>time_unit</th>\n",
       "      <th>time_in_hours</th>\n",
       "    </tr>\n",
       "  </thead>\n",
       "  <tbody>\n",
       "    <tr>\n",
       "      <th>0</th>\n",
       "      <td>password</td>\n",
       "      <td>6.91</td>\n",
       "      <td>years</td>\n",
       "      <td>60531.600000</td>\n",
       "    </tr>\n",
       "    <tr>\n",
       "      <th>1</th>\n",
       "      <td>123456</td>\n",
       "      <td>18.52</td>\n",
       "      <td>minutes</td>\n",
       "      <td>0.308667</td>\n",
       "    </tr>\n",
       "    <tr>\n",
       "      <th>2</th>\n",
       "      <td>12345678</td>\n",
       "      <td>1.29</td>\n",
       "      <td>days</td>\n",
       "      <td>30.960000</td>\n",
       "    </tr>\n",
       "    <tr>\n",
       "      <th>3</th>\n",
       "      <td>1234</td>\n",
       "      <td>11.11</td>\n",
       "      <td>seconds</td>\n",
       "      <td>0.003086</td>\n",
       "    </tr>\n",
       "    <tr>\n",
       "      <th>4</th>\n",
       "      <td>qwerty</td>\n",
       "      <td>3.72</td>\n",
       "      <td>days</td>\n",
       "      <td>89.280000</td>\n",
       "    </tr>\n",
       "  </tbody>\n",
       "</table>\n",
       "</div>"
      ],
      "text/plain": [
       "   password  value time_unit  time_in_hours\n",
       "0  password   6.91     years   60531.600000\n",
       "1    123456  18.52   minutes       0.308667\n",
       "2  12345678   1.29      days      30.960000\n",
       "3      1234  11.11   seconds       0.003086\n",
       "4    qwerty   3.72      days      89.280000"
      ]
     },
     "execution_count": 2,
     "metadata": {},
     "output_type": "execute_result"
    }
   ],
   "source": [
    "# Your answer here \n",
    "\n",
    "units = {\n",
    "    \"seconds\": 1 / 3600,\n",
    "    \"minutes\": 1 / 60,\n",
    "    \"days\": 24,\n",
    "    \"weeks\": 168,\n",
    "    \"months\": 720,\n",
    "    \"years\": 8760,\n",
    "}\n",
    "\n",
    "\n",
    "# Convert all time values to hours\n",
    "passwords_df['time_in_hours'] = passwords_df.apply(\n",
    "    lambda row: row['value'] * units.get(row['time_unit'], 1),\n",
    "    axis=1\n",
    ")\n",
    "\n",
    "# Display the first few rows to check the conversion\n",
    "passwords_df[['password', 'value', 'time_unit', 'time_in_hours']].head()"
   ]
  },
  {
   "cell_type": "markdown",
   "metadata": {},
   "source": [
    "2. Are there any missing values in the dataset? If so, how many? After you have counted the, please drop them from the dataset."
   ]
  },
  {
   "cell_type": "code",
   "execution_count": 3,
   "metadata": {},
   "outputs": [
    {
     "name": "stdout",
     "output_type": "stream",
     "text": [
      "Missing values in each column:\n",
      " rank                 7\n",
      "password             7\n",
      "category             7\n",
      "value                7\n",
      "time_unit            7\n",
      "offline_crack_sec    7\n",
      "rank_alt             7\n",
      "strength             7\n",
      "font_size            7\n",
      "time_in_hours        7\n",
      "dtype: int64\n",
      "\n",
      "Missing values after dropping rows:\n",
      " rank                 0\n",
      "password             0\n",
      "category             0\n",
      "value                0\n",
      "time_unit            0\n",
      "offline_crack_sec    0\n",
      "rank_alt             0\n",
      "strength             0\n",
      "font_size            0\n",
      "time_in_hours        0\n",
      "dtype: int64\n"
     ]
    }
   ],
   "source": [
    "# Your answer here\n",
    "\n",
    "# Check for missing values in each column\n",
    "missing_values = passwords_df.isnull().sum()\n",
    "\n",
    "# Display columns with missing values and their counts\n",
    "print(\"Missing values in each column:\\n\", missing_values)\n",
    "\n",
    "# Drop rows with any missing values\n",
    "passwords_df.dropna(inplace=True)\n",
    "\n",
    "# Confirm that missing values are dropped by checking again\n",
    "missing_values_after_drop = passwords_df.isnull().sum()\n",
    "print(\"\\nMissing values after dropping rows:\\n\", missing_values_after_drop)\n"
   ]
  },
  {
   "cell_type": "markdown",
   "metadata": {},
   "source": [
    "3. Which password category has the highest average strength?\n"
   ]
  },
  {
   "cell_type": "code",
   "execution_count": 4,
   "metadata": {},
   "outputs": [
    {
     "name": "stdout",
     "output_type": "stream",
     "text": [
      "The password category with the highest average strength is 'nerdy-pop' with an average strength of 14.0.\n"
     ]
    }
   ],
   "source": [
    "# Your answer here\n",
    "\n",
    "# Calculate the average strength for each password category\n",
    "category_strength = passwords_df.groupby('category')['strength'].mean()\n",
    "\n",
    "# Find the category with the highest average strength\n",
    "highest_avg_strength_category = category_strength.idxmax()\n",
    "highest_avg_strength_value = category_strength.max()\n",
    "\n",
    "print(f\"The password category with the highest average strength is '{highest_avg_strength_category}' with an average strength of {highest_avg_strength_value}.\")\n"
   ]
  },
  {
   "cell_type": "markdown",
   "metadata": {},
   "source": [
    "4. What is the rank of the password 'qwerty'?"
   ]
  },
  {
   "cell_type": "code",
   "execution_count": 5,
   "metadata": {},
   "outputs": [
    {
     "name": "stdout",
     "output_type": "stream",
     "text": [
      "The rank of the password 'qwerty' is 5.0.\n"
     ]
    }
   ],
   "source": [
    "# Your answer here\n",
    "\n",
    "qwerty_rank = passwords_df.loc[passwords_df['password'] == 'qwerty', 'rank'].values\n",
    "\n",
    "if qwerty_rank.size > 0:\n",
    "    print(f\"The rank of the password 'qwerty' is {qwerty_rank[0]}.\")\n",
    "else:\n",
    "    print(\"The password 'qwerty' was not found in the dataset.\")\n"
   ]
  },
  {
   "cell_type": "markdown",
   "metadata": {},
   "source": [
    "5. How many passwords have more than 8 characters?"
   ]
  },
  {
   "cell_type": "code",
   "execution_count": 6,
   "metadata": {},
   "outputs": [
    {
     "name": "stdout",
     "output_type": "stream",
     "text": [
      "The number of passwords with more than 8 characters is 1.\n"
     ]
    }
   ],
   "source": [
    "# Your answer here\n",
    "\n",
    "long_passwords_count = passwords_df[passwords_df['password'].str.len() > 8].shape[0]\n",
    "\n",
    "print(f\"The number of passwords with more than 8 characters is {long_passwords_count}.\")\n"
   ]
  },
  {
   "cell_type": "markdown",
   "metadata": {},
   "source": [
    "6. How many passwords do not contain a number?"
   ]
  },
  {
   "cell_type": "code",
   "execution_count": 7,
   "metadata": {},
   "outputs": [
    {
     "name": "stdout",
     "output_type": "stream",
     "text": [
      "The number of passwords that do not contain a number is 446.\n"
     ]
    }
   ],
   "source": [
    "# Your answer here\n",
    "\n",
    "no_number_passwords_count = passwords_df[~passwords_df['password'].str.contains(r'\\d')].shape[0]\n",
    "\n",
    "print(f\"The number of passwords that do not contain a number is {no_number_passwords_count}.\")\n"
   ]
  },
  {
   "cell_type": "markdown",
   "metadata": {},
   "source": [
    "7. What is the average time in hours needed to crack these passwords that begin with `123`? How does this compare to the average of all passwords in the dataset?"
   ]
  },
  {
   "cell_type": "code",
   "execution_count": 8,
   "metadata": {},
   "outputs": [
    {
     "name": "stdout",
     "output_type": "stream",
     "text": [
      "The average time in hours to crack passwords beginning with '123' is 107.30 hours.\n",
      "The average time in hours to crack all passwords in the dataset is 13917.57 hours.\n"
     ]
    }
   ],
   "source": [
    "# Your answer here\n",
    "\n",
    "# average time in hours for passwords that begin with '123'\n",
    "average_time_123 = passwords_df[passwords_df['password'].str.startswith('123')]['time_in_hours'].mean()\n",
    "\n",
    "# average time in hours for all passwords\n",
    "average_time_all = passwords_df['time_in_hours'].mean()\n",
    "\n",
    "print(f\"The average time in hours to crack passwords beginning with '123' is {average_time_123:.2f} hours.\")\n",
    "print(f\"The average time in hours to crack all passwords in the dataset is {average_time_all:.2f} hours.\")\n"
   ]
  },
  {
   "cell_type": "markdown",
   "metadata": {},
   "source": [
    "8. What percentage of passwords are of the `simple-alphanumeric` category?"
   ]
  },
  {
   "cell_type": "code",
   "execution_count": 9,
   "metadata": {},
   "outputs": [
    {
     "name": "stdout",
     "output_type": "stream",
     "text": [
      "The percentage of passwords in the 'simple-alphanumeric' category is 12.20%.\n"
     ]
    }
   ],
   "source": [
    "# Your answer here\n",
    "\n",
    "# Count the number of passwords in the simple-alphanumeric category\n",
    "simple_alphanumeric_count = passwords_df[passwords_df['category'] == 'simple-alphanumeric'].shape[0]\n",
    "\n",
    "# Calculate the total number of passwords\n",
    "total_password_count = passwords_df.shape[0]\n",
    "\n",
    "# Calculate the percentage\n",
    "percentage_simple_alphanumeric = (simple_alphanumeric_count / total_password_count) * 100\n",
    "\n",
    "print(f\"The percentage of passwords in the 'simple-alphanumeric' category is {percentage_simple_alphanumeric:.2f}%.\")"
   ]
  },
  {
   "cell_type": "markdown",
   "metadata": {},
   "source": [
    "9. How many passwords have a strength rating below 5? What is their percentage?"
   ]
  },
  {
   "cell_type": "code",
   "execution_count": 10,
   "metadata": {},
   "outputs": [
    {
     "name": "stdout",
     "output_type": "stream",
     "text": [
      "The number of passwords with a strength rating below 5 is 73.\n"
     ]
    }
   ],
   "source": [
    "# Your answer here\n",
    "\n",
    "# Count the number of passwords with a strength rating below 5\n",
    "low_strength_count = passwords_df[passwords_df['strength'] < 5].shape[0]\n",
    "\n",
    "# Percentage\n",
    "percentage_low_strength = (low_strength_count / passwords_df.shape[0]) * 100\n",
    "\n",
    "print(f\"The number of passwords with a strength rating below 5 is {low_strength_count}.\")"
   ]
  },
  {
   "cell_type": "markdown",
   "metadata": {},
   "source": [
    "10. What is the most common password in the dataset?"
   ]
  },
  {
   "cell_type": "code",
   "execution_count": 11,
   "metadata": {},
   "outputs": [
    {
     "name": "stdout",
     "output_type": "stream",
     "text": [
      "The most common password in the dataset is '1111'.\n"
     ]
    }
   ],
   "source": [
    "# Your answer here\n",
    "\n",
    "# Find the most common password\n",
    "most_common_password = passwords_df['password'].mode()[0]\n",
    "\n",
    "print(f\"The most common password in the dataset is '{most_common_password}'.\")"
   ]
  },
  {
   "cell_type": "markdown",
   "metadata": {},
   "source": [
    "11. How many unique passwords are there in each category, and what is their average length?"
   ]
  },
  {
   "cell_type": "code",
   "execution_count": 12,
   "metadata": {},
   "outputs": [
    {
     "name": "stdout",
     "output_type": "stream",
     "text": [
      "                     unique_password_count  average_password_length\n",
      "category                                                           \n",
      "animal                                  29                 6.206897\n",
      "cool-macho                              79                 6.253165\n",
      "fluffy                                  44                 5.795455\n",
      "food                                    11                 6.090909\n",
      "name                                   183                 6.218579\n",
      "nerdy-pop                               30                 6.633333\n",
      "password-related                        15                 6.333333\n",
      "rebellious-rude                         11                 6.363636\n",
      "simple-alphanumeric                     61                 5.934426\n",
      "sport                                   37                 6.513514\n"
     ]
    }
   ],
   "source": [
    "# Your answer here\n",
    "\n",
    "# Calculate the number of unique passwords in each category\n",
    "unique_passwords_per_category = passwords_df.groupby('category')['password'].nunique()\n",
    "\n",
    "# Calculate the average length of passwords in each category\n",
    "average_length_per_category = passwords_df.groupby('category')['password'].apply(lambda x: x.str.len().mean())\n",
    "\n",
    "category_summary = pd.DataFrame({\n",
    "    'unique_password_count': unique_passwords_per_category,\n",
    "    'average_password_length': average_length_per_category\n",
    "})\n",
    "\n",
    "print(category_summary)\n"
   ]
  },
  {
   "cell_type": "markdown",
   "metadata": {},
   "source": [
    "12. What is the median rank and strength for passwords of each length?"
   ]
  },
  {
   "cell_type": "code",
   "execution_count": 13,
   "metadata": {},
   "outputs": [
    {
     "name": "stdout",
     "output_type": "stream",
     "text": [
      "                 median_rank  median_strength\n",
      "password_length                              \n",
      "4                      326.0              6.0\n",
      "5                      343.0              7.0\n",
      "6                      231.0              7.0\n",
      "7                      222.0              8.0\n",
      "8                      286.0              8.0\n",
      "9                       49.0              4.0\n"
     ]
    }
   ],
   "source": [
    "# Your answer here\n",
    "\n",
    "# Add a new column for password length\n",
    "passwords_df['password_length'] = passwords_df['password'].str.len()\n",
    "\n",
    "# Calculate the median rank and strength for each password length\n",
    "median_rank_strength_by_length = passwords_df.groupby('password_length').agg(\n",
    "    median_rank=('rank', 'median'),\n",
    "    median_strength=('strength', 'median')\n",
    ")\n",
    "\n",
    "print(median_rank_strength_by_length)"
   ]
  },
  {
   "cell_type": "markdown",
   "metadata": {},
   "source": [
    "13. Add a column `strength_label` with values `weak` if strength is below 5, else `strong`. Use a lambda function."
   ]
  },
  {
   "cell_type": "code",
   "execution_count": 14,
   "metadata": {},
   "outputs": [
    {
     "data": {
      "text/html": [
       "<div>\n",
       "<style scoped>\n",
       "    .dataframe tbody tr th:only-of-type {\n",
       "        vertical-align: middle;\n",
       "    }\n",
       "\n",
       "    .dataframe tbody tr th {\n",
       "        vertical-align: top;\n",
       "    }\n",
       "\n",
       "    .dataframe thead th {\n",
       "        text-align: right;\n",
       "    }\n",
       "</style>\n",
       "<table border=\"1\" class=\"dataframe\">\n",
       "  <thead>\n",
       "    <tr style=\"text-align: right;\">\n",
       "      <th></th>\n",
       "      <th>password</th>\n",
       "      <th>strength</th>\n",
       "      <th>strength_label</th>\n",
       "    </tr>\n",
       "  </thead>\n",
       "  <tbody>\n",
       "    <tr>\n",
       "      <th>0</th>\n",
       "      <td>password</td>\n",
       "      <td>8.0</td>\n",
       "      <td>strong</td>\n",
       "    </tr>\n",
       "    <tr>\n",
       "      <th>1</th>\n",
       "      <td>123456</td>\n",
       "      <td>4.0</td>\n",
       "      <td>weak</td>\n",
       "    </tr>\n",
       "    <tr>\n",
       "      <th>2</th>\n",
       "      <td>12345678</td>\n",
       "      <td>4.0</td>\n",
       "      <td>weak</td>\n",
       "    </tr>\n",
       "    <tr>\n",
       "      <th>3</th>\n",
       "      <td>1234</td>\n",
       "      <td>4.0</td>\n",
       "      <td>weak</td>\n",
       "    </tr>\n",
       "    <tr>\n",
       "      <th>4</th>\n",
       "      <td>qwerty</td>\n",
       "      <td>8.0</td>\n",
       "      <td>strong</td>\n",
       "    </tr>\n",
       "  </tbody>\n",
       "</table>\n",
       "</div>"
      ],
      "text/plain": [
       "   password  strength strength_label\n",
       "0  password       8.0         strong\n",
       "1    123456       4.0           weak\n",
       "2  12345678       4.0           weak\n",
       "3      1234       4.0           weak\n",
       "4    qwerty       8.0         strong"
      ]
     },
     "execution_count": 14,
     "metadata": {},
     "output_type": "execute_result"
    }
   ],
   "source": [
    "# Your answer here\n",
    "\n",
    "# Add a column 'strength_label' based on the 'strength' value\n",
    "passwords_df['strength_label'] = passwords_df['strength'].apply(lambda x: 'weak' if x < 5 else 'strong')\n",
    "\n",
    "# Display the first few rows to verify\n",
    "passwords_df[['password', 'strength', 'strength_label']].head()"
   ]
  },
  {
   "cell_type": "markdown",
   "metadata": {},
   "source": [
    "14. Create a column `high_value` with a value of `True` if value is in the top 10% of values in the dataset."
   ]
  },
  {
   "cell_type": "code",
   "execution_count": 15,
   "metadata": {},
   "outputs": [
    {
     "data": {
      "text/html": [
       "<div>\n",
       "<style scoped>\n",
       "    .dataframe tbody tr th:only-of-type {\n",
       "        vertical-align: middle;\n",
       "    }\n",
       "\n",
       "    .dataframe tbody tr th {\n",
       "        vertical-align: top;\n",
       "    }\n",
       "\n",
       "    .dataframe thead th {\n",
       "        text-align: right;\n",
       "    }\n",
       "</style>\n",
       "<table border=\"1\" class=\"dataframe\">\n",
       "  <thead>\n",
       "    <tr style=\"text-align: right;\">\n",
       "      <th></th>\n",
       "      <th>password</th>\n",
       "      <th>value</th>\n",
       "      <th>high_value</th>\n",
       "    </tr>\n",
       "  </thead>\n",
       "  <tbody>\n",
       "    <tr>\n",
       "      <th>0</th>\n",
       "      <td>password</td>\n",
       "      <td>6.91</td>\n",
       "      <td>False</td>\n",
       "    </tr>\n",
       "    <tr>\n",
       "      <th>1</th>\n",
       "      <td>123456</td>\n",
       "      <td>18.52</td>\n",
       "      <td>True</td>\n",
       "    </tr>\n",
       "    <tr>\n",
       "      <th>2</th>\n",
       "      <td>12345678</td>\n",
       "      <td>1.29</td>\n",
       "      <td>False</td>\n",
       "    </tr>\n",
       "    <tr>\n",
       "      <th>3</th>\n",
       "      <td>1234</td>\n",
       "      <td>11.11</td>\n",
       "      <td>True</td>\n",
       "    </tr>\n",
       "    <tr>\n",
       "      <th>4</th>\n",
       "      <td>qwerty</td>\n",
       "      <td>3.72</td>\n",
       "      <td>False</td>\n",
       "    </tr>\n",
       "  </tbody>\n",
       "</table>\n",
       "</div>"
      ],
      "text/plain": [
       "   password  value  high_value\n",
       "0  password   6.91       False\n",
       "1    123456  18.52        True\n",
       "2  12345678   1.29       False\n",
       "3      1234  11.11        True\n",
       "4    qwerty   3.72       False"
      ]
     },
     "execution_count": 15,
     "metadata": {},
     "output_type": "execute_result"
    }
   ],
   "source": [
    "# Your answer here\n",
    "\n",
    "# Calculate the 90th percentile of the 'value' column\n",
    "top_10_percent_threshold = passwords_df['value'].quantile(0.9)\n",
    "\n",
    "# Create the 'high_value' column based on the threshold\n",
    "passwords_df['high_value'] = passwords_df['value'] >= top_10_percent_threshold\n",
    "\n",
    "# Display the first few rows to verify\n",
    "passwords_df[['password', 'value', 'high_value']].head()\n"
   ]
  },
  {
   "cell_type": "markdown",
   "metadata": {},
   "source": [
    "15. Join all passwords within each `category` into a single string."
   ]
  },
  {
   "cell_type": "code",
   "execution_count": 16,
   "metadata": {},
   "outputs": [
    {
     "name": "stdout",
     "output_type": "stream",
     "text": [
      "category\n",
      "animal                 dragon monkey bigdog falcon phoenix tigers chi...\n",
      "cool-macho             mustang shadow master harley hunter ranger bus...\n",
      "fluffy                 love sunshine silver orange ginger summer prin...\n",
      "food                   pepper cheese coffee banana butter muffin hotd...\n",
      "name                   michael jennifer jordan superman thomas tigger...\n",
      "nerdy-pop              starwars computer merlin matrix snoopy boomer ...\n",
      "password-related       password letmein test pass access gateway plea...\n",
      "rebellious-rude        biteme freedom secret whatever badboy sexsex b...\n",
      "simple-alphanumeric    123456 12345678 1234 qwerty 12345 696969 abc12...\n",
      "sport                  baseball football soccer hockey dallas yankees...\n",
      "Name: password, dtype: object\n"
     ]
    }
   ],
   "source": [
    "# Your answer here\n",
    "\n",
    "passwords_joined_by_category = passwords_df.groupby('category')['password'].apply(lambda x: ' '.join(x))\n",
    "\n",
    "print(passwords_joined_by_category)\n"
   ]
  },
  {
   "cell_type": "markdown",
   "metadata": {},
   "source": [
    "**Bonus question 01**: What is the correlation between password length and strength? Create a scatter plot with regression line."
   ]
  },
  {
   "cell_type": "code",
   "execution_count": 18,
   "metadata": {},
   "outputs": [
    {
     "name": "stdout",
     "output_type": "stream",
     "text": [
      "The correlation between password length and strength is 0.26\n"
     ]
    },
    {
     "data": {
      "image/png": "[encoded data removed]",
      "text/plain": [
       "<Figure size 1000x600 with 1 Axes>"
      ]
     },
     "metadata": {},
     "output_type": "display_data"
    }
   ],
   "source": [
    "# Your answer here\n",
    "\n",
    "import matplotlib.pyplot as plt\n",
    "import numpy as np\n",
    "\n",
    "passwords_df['password_length'] = passwords_df['password'].str.len()\n",
    "\n",
    "# Calculate the correlation between password length and strength\n",
    "correlation = passwords_df['password_length'].corr(passwords_df['strength'])\n",
    "print(f\"The correlation between password length and strength is {correlation:.2f}\")\n",
    "\n",
    "# Create a scatter plot\n",
    "plt.figure(figsize=(10, 6))\n",
    "plt.scatter(passwords_df['password_length'], passwords_df['strength'], alpha=0.5)\n",
    "\n",
    "# Add a regression line\n",
    "m, b = np.polyfit(passwords_df['password_length'], passwords_df['strength'], 1)\n",
    "plt.plot(passwords_df['password_length'], m*passwords_df['password_length'] + b, color='red')\n",
    "\n",
    "# Add labels and title\n",
    "plt.title('Scatter Plot of Password Length vs. Strength')\n",
    "plt.xlabel('Password Length')\n",
    "plt.ylabel('Strength')\n",
    "plt.show()\n"
   ]
  },
  {
   "cell_type": "markdown",
   "metadata": {},
   "source": [
    "**Bonus question 02**: Find all passwords with palindromes."
   ]
  },
  {
   "cell_type": "code",
   "execution_count": 19,
   "metadata": {},
   "outputs": [
    {
     "name": "stdout",
     "output_type": "stream",
     "text": [
      "Palindromic passwords:\n",
      "     password\n",
      "18     111111\n",
      "59     666666\n",
      "76       1111\n",
      "105    aaaaaa\n",
      "144    xxxxxx\n",
      "190    hannah\n",
      "192  11111111\n",
      "206   7777777\n",
      "277    222222\n",
      "285  xxxxxxxx\n",
      "286    777777\n",
      "291  88888888\n",
      "314      2112\n",
      "324      7777\n",
      "352    zzzzzz\n",
      "364    555555\n",
      "371      2222\n",
      "373      4444\n",
      "409     11111\n",
      "413    123321\n",
      "420    999999\n",
      "458    333333\n",
      "472      xxxx\n",
      "489    888888\n"
     ]
    }
   ],
   "source": [
    "# Your answer here\n",
    "\n",
    "# Identify palindromic passwords\n",
    "palindromic_passwords = passwords_df[passwords_df['password'] == passwords_df['password'].str[::-1]]\n",
    "\n",
    "# Display the palindromic passwords\n",
    "print(\"Palindromic passwords:\")\n",
    "print(palindromic_passwords[['password']])"
   ]
  }
 ],
 "metadata": {
  "kernelspec": {
   "display_name": "Python 3",
   "language": "python",
   "name": "python3"
  },
  "language_info": {
   "codemirror_mode": {
    "name": "ipython",
    "version": 3
   },
   "file_extension": ".py",
   "mimetype": "text/x-python",
   "name": "python",
   "nbconvert_exporter": "python",
   "pygments_lexer": "ipython3",
   "version": "3.11.1"
  }
 },
 "nbformat": 4,
 "nbformat_minor": 2
}
